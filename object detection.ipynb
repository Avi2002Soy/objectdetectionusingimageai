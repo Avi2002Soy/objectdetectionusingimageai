{
 "cells": [
  {
   "cell_type": "code",
   "execution_count": 4,
   "id": "47271604",
   "metadata": {
    "scrolled": true
   },
   "outputs": [
    {
     "name": "stdout",
     "output_type": "stream",
     "text": [
      "WARNING:tensorflow:No training configuration found in the save file, so the model was *not* compiled. Compile it manually.\n",
      "car  :  97.08952903747559 %\n",
      "car  :  91.28049612045288 %\n",
      "car  :  89.47739601135254 %\n",
      "car  :  88.9286756515503 %\n",
      "car  :  81.75872564315796 %\n",
      "car  :  64.98814821243286 %\n",
      "car  :  55.20668029785156 %\n",
      "car  :  51.857972145080566 %\n",
      "car  :  50.12063980102539 %\n"
     ]
    }
   ],
   "source": [
    "#PROGRAM ON OBJECT DETECTION USING IMAGEAI\n",
    "from imageai.Detection import ObjectDetection\n",
    "import os\n",
    "\n",
    "worked_path = os.getcwd()\n",
    "\n",
    "detector = ObjectDetection()\n",
    "detector.setModelTypeAsRetinaNet()\n",
    "detector.setModelPath( os.path.join(worked_path , \"resnet50_coco_best_v2.1.0.h5\"))\n",
    "detector.loadModel()\n",
    "detections = detector.detectObjectsFromImage(input_image=os.path.join(worked_path , \"image.jpg\"), output_image_path=os.path.join(worked_path , \"imagenew.jpg\"))\n",
    "\n",
    "for eachObject in detections:\n",
    "    print(eachObject[\"name\"] , \" : \" , eachObject[\"percentage_probability\"],\"%\" )"
   ]
  },
  {
   "cell_type": "code",
   "execution_count": null,
   "id": "97600f22",
   "metadata": {},
   "outputs": [],
   "source": []
  }
 ],
 "metadata": {
  "kernelspec": {
   "display_name": "Python 3",
   "language": "python",
   "name": "python3"
  },
  "language_info": {
   "codemirror_mode": {
    "name": "ipython",
    "version": 3
   },
   "file_extension": ".py",
   "mimetype": "text/x-python",
   "name": "python",
   "nbconvert_exporter": "python",
   "pygments_lexer": "ipython3",
   "version": "3.8.8"
  }
 },
 "nbformat": 4,
 "nbformat_minor": 5
}
